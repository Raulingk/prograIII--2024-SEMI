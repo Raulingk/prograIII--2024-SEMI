{
  "nbformat": 4,
  "nbformat_minor": 0,
  "metadata": {
    "colab": {
      "provenance": [],
      "authorship_tag": "ABX9TyPWPaptxCGjeNuvJQ6k3DIE",
      "include_colab_link": true
    },
    "kernelspec": {
      "name": "python3",
      "display_name": "Python 3"
    },
    "language_info": {
      "name": "python"
    }
  },
  "cells": [
    {
      "cell_type": "markdown",
      "metadata": {
        "id": "view-in-github",
        "colab_type": "text"
      },
      "source": [
        "<a href=\"https://colab.research.google.com/github/Raulingk/prograIII--2024-SEMI/blob/main/Copia_de_fundamentos_de_python.ipynb\" target=\"_parent\"><img src=\"https://colab.research.google.com/assets/colab-badge.svg\" alt=\"Open In Colab\"/></a>"
      ]
    },
    {
      "cell_type": "code",
      "execution_count": null,
      "metadata": {
        "colab": {
          "base_uri": "https://localhost:8080/"
        },
        "id": "pGfUuoW14fxu",
        "outputId": "9cc3b182-f865-4e51-c089-7090654951f1"
      },
      "outputs": [
        {
          "output_type": "stream",
          "name": "stdout",
          "text": [
            "hola mundo\n",
            "hola Raul Mendez , inicial: R M\n"
          ]
        }
      ],
      "source": [
        "print(\"hola mundo\")\n",
        "nombre = \"Raul Mendez\"\n",
        "\n",
        "print(\"hola\", nombre , \", inicial:\", nombre [0], nombre[5])"
      ]
    },
    {
      "cell_type": "code",
      "source": [
        "print(\"hola mundo\")\n",
        "nombre = \"Raul Mendez\"\n",
        "\n",
        "print(\"hola\", nombre,\"inicial:\", nombre[0],nombre[5])"
      ],
      "metadata": {
        "colab": {
          "base_uri": "https://localhost:8080/"
        },
        "id": "0D4vci1B9WAe",
        "outputId": "b8fff3c8-cb26-4736-86da-bf81b0bc0ef4"
      },
      "execution_count": null,
      "outputs": [
        {
          "output_type": "stream",
          "name": "stdout",
          "text": [
            "hola mundo\n",
            "hola Raul Mendez inicial: R M\n"
          ]
        }
      ]
    },
    {
      "cell_type": "code",
      "source": [
        "num1=5\n",
        "num2=9.5\n",
        "resp=num1+num2\n",
        "print(\"la suma es:\",resp)"
      ],
      "metadata": {
        "colab": {
          "base_uri": "https://localhost:8080/"
        },
        "collapsed": true,
        "id": "fa_LO7Th97it",
        "outputId": "7b99fbef-91ea-4618-8f2e-4469d4c2f2fa"
      },
      "execution_count": null,
      "outputs": [
        {
          "output_type": "stream",
          "name": "stdout",
          "text": [
            "la suma es: 14.5\n"
          ]
        }
      ]
    },
    {
      "cell_type": "code",
      "source": [
        "print(\"num 1\")\n",
        "num1 = int(input())\n",
        "\n",
        "print(\"num 2\")\n",
        "num2 = float(input())\n",
        "\n",
        "resp = num1 + num2\n",
        "print(\"la suma es:\", resp)"
      ],
      "metadata": {
        "colab": {
          "base_uri": "https://localhost:8080/"
        },
        "collapsed": true,
        "id": "oLJ7Pg0X_TdS",
        "outputId": "e1f7a805-20fc-45f5-e9c1-78cec3b249c3"
      },
      "execution_count": null,
      "outputs": [
        {
          "output_type": "stream",
          "name": "stdout",
          "text": [
            "num 1\n",
            "5\n",
            "num 2\n",
            "5\n",
            "la suma es: 10.0\n"
          ]
        }
      ]
    },
    {
      "cell_type": "code",
      "source": [
        "#Tipos de datos\n",
        "num1 = 5\n",
        "num2 = 5.9\n",
        "nombre = \"Raul Mendez\"\n",
        "print(nombre[0:4], nombre[:4], nombre [-1:], nombre[5-len(nombre)])\n",
        "\n",
        "estado =True\n",
        "print(estado)\n",
        "\n",
        "print(type(nombre), type(num1), type(num2), type(estado))"
      ],
      "metadata": {
        "id": "DqpAASl1CTNG"
      },
      "execution_count": null,
      "outputs": []
    },
    {
      "cell_type": "code",
      "source": [
        "num = int(input(\"ingrese un numero\"))\n",
        "if num % 2 == 0:\n",
        "    print(\"El numero es par\", num)\n",
        "else:\n",
        "    print(\"El numero es impar\")"
      ],
      "metadata": {
        "colab": {
          "base_uri": "https://localhost:8080/"
        },
        "id": "xXmIqHmxErKh",
        "outputId": "72e1ba0e-a8e0-4195-fa4f-2b119511291e"
      },
      "execution_count": null,
      "outputs": [
        {
          "output_type": "stream",
          "name": "stdout",
          "text": [
            "ingrese un numero7\n",
            "El numero es impar\n"
          ]
        }
      ]
    },
    {
      "cell_type": "code",
      "source": [
        "def fahrenheit_a_celsius(fahrenheit):\n",
        "    celsius = (fahrenheit - 32) * 5.0/9.0\n",
        "    return celsius\n",
        "fahrenheit = float(input(\"ingresar los grados en fahrenheit:\"))\n",
        "celsius = fahrenheit_a_celsius(fahrenheit)\n",
        "print(f\"{fahrenheit} grados Fahrenheit son {celsius:.2f} grados Celsius.\")"
      ],
      "metadata": {
        "colab": {
          "base_uri": "https://localhost:8080/"
        },
        "id": "PMAFyCPUK3ci",
        "outputId": "96d68284-0a7f-4c3c-c8c3-3e7bc9c79937"
      },
      "execution_count": null,
      "outputs": [
        {
          "output_type": "stream",
          "name": "stdout",
          "text": [
            "ingresar los grados en fahrenheit:33\n",
            "33.0 grados Fahrenheit son 0.56 grados Celsius.\n"
          ]
        }
      ]
    },
    {
      "cell_type": "code",
      "source": [
        "celsius = int(input(\"ingresar la temperatura en celsius:\"))\n",
        "fahrenheit = (celsius * 9/5)+ 32\n",
        "kelvin = celsius + 273.15\n",
        "print(f\"{celsius:.2f} grados Celsius son {fahrenheit:.2f} grados fahrenheit {kelvin:.2f} grados kelvin\")"
      ],
      "metadata": {
        "colab": {
          "base_uri": "https://localhost:8080/"
        },
        "id": "b0lyzRA0LD98",
        "outputId": "b9842f28-8053-418d-afbf-209771057525"
      },
      "execution_count": null,
      "outputs": [
        {
          "output_type": "stream",
          "name": "stdout",
          "text": [
            "ingresar la temperatura en celsius:33\n",
            "33.00 grados Celsius son 91.40 grados fahrenheit 306.15 grados kelvin\n"
          ]
        }
      ]
    },
    {
      "cell_type": "markdown",
      "source": [
        "calcular el Valor del ISSS AFP  Y ISR"
      ],
      "metadata": {
        "id": "3UpcMlLG9srk"
      }
    },
    {
      "cell_type": "code",
      "source": [
        "def calcular_deducciones(sueldo_bruto):\n",
        "    # Deducción ISSS\n",
        "    iss = sueldo_bruto * 0.03  # 3% del sueldo bruto\n",
        "\n",
        "    # Deducción AFP\n",
        "    afp = sueldo_bruto * 0.0625  # 6.25% del sueldo bruto\n",
        "\n",
        "    # Deducción ISR\n",
        "    isr = sueldo_bruto * 0.00# 0% del sueldo bruto\n",
        "\n",
        "    # Calcular el total de deducciones\n",
        "    total_deducciones = iss + afp + isr\n",
        "\n",
        "    # Calcular el sueldo neto\n",
        "    sueldo_neto = sueldo_bruto - total_deducciones\n",
        "\n",
        "    return iss, afp, isr, total_deducciones, sueldo_neto\n",
        "\n",
        "# Ejemplo de uso\n",
        "sueldo_bruto = float(input(\"Ingrese el sueldo bruto: \"))\n",
        "iss, afp, isr, total_deducciones, sueldo_neto = calcular_deducciones(sueldo_bruto)\n",
        "\n",
        "print(f\"Deducción ISSS: ${iss:.2f}\")\n",
        "print(f\"Deducción AFP: ${afp:.2f}\")\n",
        "print(f\"Deducción ISR: ${isr:.2f}\")\n",
        "print(f\"Total de deducciones: ${total_deducciones:.2f}\")\n",
        "print(f\"Sueldo neto: ${sueldo_neto:.2f}\")"
      ],
      "metadata": {
        "id": "g4ujMIaK9-vw",
        "colab": {
          "base_uri": "https://localhost:8080/"
        },
        "outputId": "7b5e8331-5915-4abb-db49-6be176644a65"
      },
      "execution_count": 19,
      "outputs": [
        {
          "output_type": "stream",
          "name": "stdout",
          "text": [
            "Ingrese el sueldo bruto: 800\n",
            "Deducción ISSS: $24.00\n",
            "Deducción AFP: $50.00\n",
            "Deducción ISR: $0.00\n",
            "Total de deducciones: $74.00\n",
            "Sueldo neto: $726.00\n"
          ]
        }
      ]
    },
    {
      "cell_type": "markdown",
      "source": [
        "Calcular el valor a pagar según el número de metros consumidos de agua potable"
      ],
      "metadata": {
        "id": "B-dDHdD--bnM"
      }
    },
    {
      "cell_type": "code",
      "source": [
        "def calcular_valor_pagar(mts_consumidos):\n",
        "    if mts_consumidos <= 18:\n",
        "        # Cuota fija para hasta 18 metros\n",
        "        valor = 6\n",
        "    elif 19 <= mts_consumidos <= 28:\n",
        "        # Calculo para el exceso de 18 metros\n",
        "        exceso = mts_consumidos - 18\n",
        "        valor = 6 + (exceso * 0.45)\n",
        "    elif mts_consumidos >= 29:\n",
        "        # Calculo para el exceso de 28 metros\n",
        "        exceso_primero = 28 - 18\n",
        "        exceso_segundo = mts_consumidos - 28\n",
        "        valor = 6 + (exceso_primero * 0.45) + (exceso_segundo * 0.65)\n",
        "    else:\n",
        "        # En caso de un valor fuera de rango (aunque no debería suceder según la descripción)\n",
        "        valor = 0\n",
        "\n",
        "    return valor\n",
        "\n",
        "# Ejemplo de uso\n",
        "mts_consumidos = float(input(\"Ingrese los metros consumidos: \"))\n",
        "valor_a_pagar = calcular_valor_pagar(mts_consumidos)\n",
        "\n",
        "print(f\"Valor a pagar: ${valor_a_pagar:.2f}\")"
      ],
      "metadata": {
        "id": "uLvRAkhe_KW6"
      },
      "execution_count": null,
      "outputs": []
    },
    {
      "cell_type": "markdown",
      "source": [
        "tabla de meses acumulados a n meses"
      ],
      "metadata": {
        "id": "so3GE7VC_erT"
      }
    },
    {
      "cell_type": "code",
      "source": [
        "def calcular_acumulacion(meses):\n",
        "    acumulaciones = []\n",
        "    for mes in range(1, meses + 1):\n",
        "        total_acumulado = mes * (mes + 1) // 2\n",
        "        acumulaciones.append(total_acumulado)\n",
        "    return acumulaciones\n",
        "\n",
        "# Ejemplo de uso\n",
        "num_meses = int(input(\"Ingrese el número de meses: \"))\n",
        "tabla_acumulacion = calcular_acumulacion(num_meses)\n",
        "\n",
        "# Imprimir la tabla\n",
        "print(\"MES\\tACUMULACION\")\n",
        "for mes, acumulacion in enumerate(tabla_acumulacion, start=1):\n",
        "    print(f\"{mes}\\t${acumulacion}\")"
      ],
      "metadata": {
        "id": "iDrxfq-8_lmO"
      },
      "execution_count": null,
      "outputs": []
    },
    {
      "cell_type": "code",
      "source": [
        "def convertir_cajas_a_unidades(cajas):\n",
        "    return cajas * 25\n",
        "\n",
        "def convertir_sacos_a_libras(sacos):\n",
        "    return sacos * 50\n",
        "\n",
        "def convertir_fardos_a_unidades(fardos):\n",
        "    return fardos * 5\n",
        "\n",
        "\n",
        "def main():\n",
        "    print(\"Conversor de las Unidades\")\n",
        "    print(\"1. Cajas a Unidades\")\n",
        "    print(\"2. Sacos a Libras\")\n",
        "    print(\"3. Fardos a Unidades\")\n",
        "\n",
        "\n",
        "    opcion = int(input(\"Ingrese el número de la conversión que desea realizar: \"))\n",
        "\n",
        "    if opcion == 1:\n",
        "        cajas = float(input(\"Ingrese la cantidad de cajas: \"))\n",
        "        unidades = convertir_cajas_a_unidades(cajas)\n",
        "        print(f\"{cajas} cajas son {unidades:.2f} unidades.\")\n",
        "\n",
        "    elif opcion == 2:\n",
        "        sacos = float(input(\"Ingrese la cantidad de sacos: \"))\n",
        "        libras = convertir_sacos_a_libras(sacos)\n",
        "        print(f\"{sacos} sacos son {libras:.2f} libras.\")\n",
        "\n",
        "    elif opcion == 3:\n",
        "        fardos = float(input(\"Ingrese la cantidad de fardos: \"))\n",
        "        unidades = convertir_fardos_a_unidades(fardos)\n",
        "        print(f\"{fardos} fardos son {unidades:.2f} unidades.\")\n",
        "\n",
        "    else:\n",
        "        print(\"Opción no válida.\")\n",
        "\n",
        "if __name__ == \"__main__\":\n",
        "    main()"
      ],
      "metadata": {
        "id": "_FFpsOizRcPp"
      },
      "execution_count": null,
      "outputs": []
    },
    {
      "cell_type": "code",
      "source": [
        "def es_palindromo(palabra):\n",
        "    # Convertir la palabra a minúsculas para comparación insensible a mayúsculas\n",
        "    palabra = palabra.lower()\n",
        "    # Eliminar espacios y caracteres no alfabéticos\n",
        "    palabra = ''.join(char for char in palabra if char.isalnum())\n",
        "    # Verificar si la palabra es igual a su reverso\n",
        "    return palabra == palabra[::-1]\n",
        "\n",
        "def main():\n",
        "    # Solicitar al usuario que introduzca una palabra\n",
        "    entrada = input(\"Introduce una palabra: \")\n",
        "    # Verificar si la entrada es un palíndrome\n",
        "    if es_palindromo(entrada):\n",
        "        print(f'\"{entrada}\" es un palíndrome.')\n",
        "    else:\n",
        "        print(f'\"{entrada}\" no es un palíndrome.')\n",
        "\n",
        "if __name__ == \"__main__\":\n",
        "    main()"
      ],
      "metadata": {
        "id": "5lYMyjvpMQ0s"
      },
      "execution_count": null,
      "outputs": []
    },
    {
      "cell_type": "code",
      "source": [
        "def frecuencia_numeros():\n",
        "    print(\"Introduce una serie de números separados por comas:\")\n",
        "    numeros = input(\"> \")\n",
        "\n",
        "    # Convertimos la entrada en una lista de números\n",
        "    numeros = [int(x) for x in numeros.split(\",\")]\n",
        "\n",
        "    # Creamos un diccionario para almacenar la frecuencia de cada número\n",
        "    frecuencia = {}\n",
        "\n",
        "    # Recorremos la lista de números y contamos la frecuencia de cada uno\n",
        "    for numero in numeros:\n",
        "        if numero in frecuencia:\n",
        "            frecuencia[numero] += 1\n",
        "        else:\n",
        "            frecuencia[numero] = 1\n",
        "\n",
        "    # Mostramos la frecuencia de cada número\n",
        "    print(\"Frecuencia de cada número:\")\n",
        "    for numero, freq in frecuencia.items():\n",
        "        print(f\"El número {numero} aparece {freq} veces\")\n",
        "\n",
        "frecuencia_numeros()"
      ],
      "metadata": {
        "id": "WfgLlf3_EqNY"
      },
      "execution_count": null,
      "outputs": []
    },
    {
      "cell_type": "code",
      "source": [
        "def varianza_numeros():\n",
        "    print(\"Introduce una serie de números separados por comas:\")\n",
        "    numeros = input(\"> \")\n",
        "\n",
        "    numeros = [float(x) for x in numeros.split(\",\")]\n",
        "\n",
        "    media = sum(numeros) / len(numeros)\n",
        "\n",
        "    varianza = sum((x - media) ** 2 for x in numeros) / len(numeros)\n",
        "\n",
        "    print(f\"La varianza de la serie de números es: {varianza:.2f}\")\n",
        "\n",
        "varianza_numeros()\n"
      ],
      "metadata": {
        "id": "memCfj4SK4X-"
      },
      "execution_count": null,
      "outputs": []
    }
  ]
}